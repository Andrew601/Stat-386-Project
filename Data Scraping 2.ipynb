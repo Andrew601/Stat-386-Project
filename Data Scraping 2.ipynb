{
 "cells": [
  {
   "cell_type": "code",
   "execution_count": 12,
   "metadata": {},
   "outputs": [
    {
     "name": "stdout",
     "output_type": "stream",
     "text": [
      "0    Season    FG   FGA    3P   3PA    FT   FTA    PTS   FG%   3P%   FT%  \\\n",
      "1   2022-23  41.7  88.2  12.3  34.2  18.5  23.7  114.2  .473  .360  .780   \n",
      "2   2021-22  40.6  88.1  12.4  35.2  16.9  21.9  110.6  .461  .354  .775   \n",
      "3   2020-21  41.2  88.4  12.7  34.6  17.0  21.8  112.1  .466  .367  .778   \n",
      "4   2019-20  40.9  88.8  12.2  34.1  17.9  23.1  111.8  .460  .358  .773   \n",
      "5   2018-19  41.1  89.2  11.4  32.0  17.7  23.1  111.2  .461  .355  .766   \n",
      "6   2017-18  39.6  86.1  10.5  29.0  16.6  21.7  106.3  .460  .362  .767   \n",
      "7   2016-17  39.0  85.4   9.7  27.0  17.8  23.1  105.6  .457  .358  .772   \n",
      "8   2015-16  38.2  84.6   8.5  24.1  17.7  23.4  102.7  .452  .354  .757   \n",
      "9   2014-15  37.5  83.6   7.8  22.4  17.1  22.8  100.0  .449  .350  .750   \n",
      "10  2013-14  37.7  83.0   7.7  21.5  17.8  23.6  101.0  .454  .360  .756   \n",
      "11  2012-13  37.1  82.0   7.2  20.0  16.7  22.2   98.1  .453  .359  .753   \n",
      "12  2011-12  36.5  81.4   6.4  18.4  16.9  22.5   96.3  .448  .349  .752   \n",
      "13  2010-11  37.2  81.2   6.5  18.0  18.6  24.4   99.6  .459  .358  .763   \n",
      "14  2009-10  37.7  81.7   6.4  18.1  18.6  24.5  100.4  .461  .355  .759   \n",
      "15  2008-09  37.1  80.9   6.6  18.1  19.1  24.7  100.0  .459  .367  .771   \n",
      "16  2007-08  37.3  81.5   6.6  18.1  18.8  24.9   99.9  .457  .362  .755   \n",
      "17  2006-07  36.5  79.7   6.1  16.9  19.6  26.1   98.7  .458  .358  .752   \n",
      "18  2005-06  35.8  79.0   5.7  16.0  19.6  26.3   97.0  .454  .358  .745   \n",
      "19  2004-05  35.9  80.3   5.6  15.8  19.7  26.1   97.2  .447  .356  .756   \n",
      "20  2003-04  35.0  79.8   5.2  14.9  18.2  24.2   93.4  .439  .347  .752   \n",
      "\n",
      "0    Pace   ORtg  \n",
      "1    99.3  114.2  \n",
      "2    98.2  112.0  \n",
      "3    99.2  112.3  \n",
      "4   100.3  110.6  \n",
      "5   100.0  110.4  \n",
      "6    97.3  108.6  \n",
      "7    96.4  108.8  \n",
      "8    95.8  106.4  \n",
      "9    93.9  105.6  \n",
      "10   93.9  106.6  \n",
      "11   92.0  105.8  \n",
      "12   91.3  104.6  \n",
      "13   92.1  107.3  \n",
      "14   92.7  107.6  \n",
      "15   91.7  108.3  \n",
      "16   92.4  107.5  \n",
      "17   91.9  106.5  \n",
      "18   90.5  106.2  \n",
      "19   90.9  106.1  \n",
      "20   90.1  102.9  \n"
     ]
    }
   ],
   "source": [
    "import requests\n",
    "from bs4 import BeautifulSoup\n",
    "import pandas as pd\n",
    "\n",
    "# Step 1: Send an HTTP request to the URL\n",
    "url = 'https://www.sportskeeda.com/basketball/what-average-points-per-game-ppg-nba-year-looking-last-decade-evolution-scoring'\n",
    "response = requests.get(url)\n",
    "\n",
    "# Step 2: Parse the HTML content of the page\n",
    "soup = BeautifulSoup(response.text, 'html.parser')\n",
    "\n",
    "table = soup.find('table')\n",
    "\n",
    "# Step 4: Extract data from the table\n",
    "data = []\n",
    "for row in table.find_all('tr'):\n",
    "    cells = row.find_all(['td', 'th'])\n",
    "    row_data = [cell.text.strip() for cell in cells]\n",
    "    data.append(row_data)\n",
    "\n",
    "# Step 5: Convert data to DataFrame\n",
    "df = pd.DataFrame(data[1:], columns=data[0])\n",
    "df.columns = df.iloc[0]\n",
    "df = df[1:21]\n",
    "\n",
    "df.to_csv('LeagueStats.csv', index=False)\n"
   ]
  },
  {
   "cell_type": "code",
   "execution_count": 14,
   "metadata": {},
   "outputs": [],
   "source": [
    "import pandas as pd\n",
    "\n",
    "file_names = ['KobeBryant.csv', 'TracyMcGrady.csv', 'AllenIverson.csv', 'PaulPierce.csv', 'DirkNowitzki.csv']\n",
    "\n",
    "concatenated_data = pd.DataFrame()\n",
    "\n",
    "for file in file_names:\n",
    "\n",
    "    data = pd.read_csv(file)\n",
    "    \n",
    "    concatenated_data = pd.concat([concatenated_data, data], ignore_index=True)\n",
    "\n",
    "concatenated_data.to_csv('2002ShotData.csv', index=False)"
   ]
  },
  {
   "cell_type": "code",
   "execution_count": 15,
   "metadata": {},
   "outputs": [],
   "source": [
    "file_names = ['JaysonTatum.csv', 'JoelEmbiid.csv', 'LukaDoncic.csv', 'ShaiGilgeousAlexander.csv', 'GiannisAntetokounmpo.csv']\n",
    "\n",
    "concatenated_data = pd.DataFrame()\n",
    "\n",
    "for file in file_names:\n",
    "\n",
    "    data = pd.read_csv(file)\n",
    "    \n",
    "    concatenated_data = pd.concat([concatenated_data, data], ignore_index=True)\n",
    "\n",
    "concatenated_data.to_csv('2022ShotData.csv', index=False)"
   ]
  },
  {
   "cell_type": "code",
   "execution_count": 5,
   "metadata": {},
   "outputs": [
    {
     "ename": "KeyError",
     "evalue": "'Action'",
     "output_type": "error",
     "traceback": [
      "\u001b[0;31m---------------------------------------------------------------------------\u001b[0m",
      "\u001b[0;31mKeyError\u001b[0m                                  Traceback (most recent call last)",
      "File \u001b[0;32m~/anaconda3/lib/python3.11/site-packages/pandas/core/indexes/base.py:3802\u001b[0m, in \u001b[0;36mIndex.get_loc\u001b[0;34m(self, key, method, tolerance)\u001b[0m\n\u001b[1;32m   3801\u001b[0m \u001b[39mtry\u001b[39;00m:\n\u001b[0;32m-> 3802\u001b[0m     \u001b[39mreturn\u001b[39;00m \u001b[39mself\u001b[39m\u001b[39m.\u001b[39m_engine\u001b[39m.\u001b[39mget_loc(casted_key)\n\u001b[1;32m   3803\u001b[0m \u001b[39mexcept\u001b[39;00m \u001b[39mKeyError\u001b[39;00m \u001b[39mas\u001b[39;00m err:\n",
      "File \u001b[0;32m~/anaconda3/lib/python3.11/site-packages/pandas/_libs/index.pyx:138\u001b[0m, in \u001b[0;36mpandas._libs.index.IndexEngine.get_loc\u001b[0;34m()\u001b[0m\n",
      "File \u001b[0;32m~/anaconda3/lib/python3.11/site-packages/pandas/_libs/index.pyx:165\u001b[0m, in \u001b[0;36mpandas._libs.index.IndexEngine.get_loc\u001b[0;34m()\u001b[0m\n",
      "File \u001b[0;32mpandas/_libs/hashtable_class_helper.pxi:5745\u001b[0m, in \u001b[0;36mpandas._libs.hashtable.PyObjectHashTable.get_item\u001b[0;34m()\u001b[0m\n",
      "File \u001b[0;32mpandas/_libs/hashtable_class_helper.pxi:5753\u001b[0m, in \u001b[0;36mpandas._libs.hashtable.PyObjectHashTable.get_item\u001b[0;34m()\u001b[0m\n",
      "\u001b[0;31mKeyError\u001b[0m: 'Action'",
      "\nThe above exception was the direct cause of the following exception:\n",
      "\u001b[0;31mKeyError\u001b[0m                                  Traceback (most recent call last)",
      "Cell \u001b[0;32mIn[5], line 14\u001b[0m\n\u001b[1;32m     11\u001b[0m     \u001b[39melse\u001b[39;00m:\n\u001b[1;32m     12\u001b[0m         \u001b[39mreturn\u001b[39;00m \u001b[39m'\u001b[39m\u001b[39munknown\u001b[39m\u001b[39m'\u001b[39m\n\u001b[0;32m---> 14\u001b[0m df[\u001b[39m'\u001b[39m\u001b[39mShotType\u001b[39m\u001b[39m'\u001b[39m] \u001b[39m=\u001b[39m df[\u001b[39m'\u001b[39m\u001b[39mAction\u001b[39m\u001b[39m'\u001b[39m]\u001b[39m.\u001b[39mapply(categorize_action)\n\u001b[1;32m     16\u001b[0m df \u001b[39m=\u001b[39m df\u001b[39m.\u001b[39mdrop(\u001b[39m'\u001b[39m\u001b[39mAction\u001b[39m\u001b[39m'\u001b[39m, axis\u001b[39m=\u001b[39m\u001b[39m1\u001b[39m)\n\u001b[1;32m     18\u001b[0m df\u001b[39m.\u001b[39mto_csv(\u001b[39m'\u001b[39m\u001b[39m2002ShotData.csv\u001b[39m\u001b[39m'\u001b[39m, index\u001b[39m=\u001b[39m\u001b[39mFalse\u001b[39;00m)\n",
      "File \u001b[0;32m~/anaconda3/lib/python3.11/site-packages/pandas/core/frame.py:3807\u001b[0m, in \u001b[0;36mDataFrame.__getitem__\u001b[0;34m(self, key)\u001b[0m\n\u001b[1;32m   3805\u001b[0m \u001b[39mif\u001b[39;00m \u001b[39mself\u001b[39m\u001b[39m.\u001b[39mcolumns\u001b[39m.\u001b[39mnlevels \u001b[39m>\u001b[39m \u001b[39m1\u001b[39m:\n\u001b[1;32m   3806\u001b[0m     \u001b[39mreturn\u001b[39;00m \u001b[39mself\u001b[39m\u001b[39m.\u001b[39m_getitem_multilevel(key)\n\u001b[0;32m-> 3807\u001b[0m indexer \u001b[39m=\u001b[39m \u001b[39mself\u001b[39m\u001b[39m.\u001b[39mcolumns\u001b[39m.\u001b[39mget_loc(key)\n\u001b[1;32m   3808\u001b[0m \u001b[39mif\u001b[39;00m is_integer(indexer):\n\u001b[1;32m   3809\u001b[0m     indexer \u001b[39m=\u001b[39m [indexer]\n",
      "File \u001b[0;32m~/anaconda3/lib/python3.11/site-packages/pandas/core/indexes/base.py:3804\u001b[0m, in \u001b[0;36mIndex.get_loc\u001b[0;34m(self, key, method, tolerance)\u001b[0m\n\u001b[1;32m   3802\u001b[0m     \u001b[39mreturn\u001b[39;00m \u001b[39mself\u001b[39m\u001b[39m.\u001b[39m_engine\u001b[39m.\u001b[39mget_loc(casted_key)\n\u001b[1;32m   3803\u001b[0m \u001b[39mexcept\u001b[39;00m \u001b[39mKeyError\u001b[39;00m \u001b[39mas\u001b[39;00m err:\n\u001b[0;32m-> 3804\u001b[0m     \u001b[39mraise\u001b[39;00m \u001b[39mKeyError\u001b[39;00m(key) \u001b[39mfrom\u001b[39;00m \u001b[39merr\u001b[39;00m\n\u001b[1;32m   3805\u001b[0m \u001b[39mexcept\u001b[39;00m \u001b[39mTypeError\u001b[39;00m:\n\u001b[1;32m   3806\u001b[0m     \u001b[39m# If we have a listlike key, _check_indexing_error will raise\u001b[39;00m\n\u001b[1;32m   3807\u001b[0m     \u001b[39m#  InvalidIndexError. Otherwise we fall through and re-raise\u001b[39;00m\n\u001b[1;32m   3808\u001b[0m     \u001b[39m#  the TypeError.\u001b[39;00m\n\u001b[1;32m   3809\u001b[0m     \u001b[39mself\u001b[39m\u001b[39m.\u001b[39m_check_indexing_error(key)\n",
      "\u001b[0;31mKeyError\u001b[0m: 'Action'"
     ]
    }
   ],
   "source": [
    "import pandas as pd\n",
    "\n",
    "# 2002 Data Cleaning\n",
    "df = pd.read_csv('2002ShotData.csv')\n",
    "\n",
    "def categorize_action(action):\n",
    "    if '2-pointer' in action:\n",
    "        return '2-pointer'\n",
    "    elif '3-pointer' in action:\n",
    "        return '3-pointer'\n",
    "    else:\n",
    "        return 'unknown'\n",
    "\n",
    "df['ShotType'] = df['Action'].apply(categorize_action)\n",
    "\n",
    "df = df.drop('Action', axis=1)\n",
    "\n",
    "df.to_csv('2002ShotData.csv', index=False)\n"
   ]
  },
  {
   "cell_type": "code",
   "execution_count": 6,
   "metadata": {},
   "outputs": [],
   "source": [
    "# 2022 Data Cleaning\n",
    "df = pd.read_csv('2022ShotData.csv')\n",
    "\n",
    "df['ShotType'] = df['Action'].apply(categorize_action)\n",
    "\n",
    "df = df.drop('Action', axis=1)\n",
    "\n",
    "df.to_csv('2022ShotData.csv', index=False)"
   ]
  }
 ],
 "metadata": {
  "kernelspec": {
   "display_name": "base",
   "language": "python",
   "name": "python3"
  },
  "language_info": {
   "codemirror_mode": {
    "name": "ipython",
    "version": 3
   },
   "file_extension": ".py",
   "mimetype": "text/x-python",
   "name": "python",
   "nbconvert_exporter": "python",
   "pygments_lexer": "ipython3",
   "version": "3.11.4 (main, Jul  5 2023, 08:54:11) [Clang 14.0.6 ]"
  },
  "orig_nbformat": 4,
  "vscode": {
   "interpreter": {
    "hash": "5046a1fdbcdbae45908c25fbd866c64369eb198dfae8008a3f78db319a240e27"
   }
  }
 },
 "nbformat": 4,
 "nbformat_minor": 2
}
